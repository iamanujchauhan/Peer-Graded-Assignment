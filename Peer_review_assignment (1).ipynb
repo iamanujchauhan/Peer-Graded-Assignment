{
 "cells": [
  {
   "cell_type": "code",
   "execution_count": 1,
   "id": "8171867c",
   "metadata": {},
   "outputs": [],
   "source": [
    "import glob\n",
    "import pandas as pd\n",
    "import json\n",
    "import datetime as datetime"
   ]
  },
  {
   "cell_type": "code",
   "execution_count": 2,
   "id": "9c42bcf4",
   "metadata": {},
   "outputs": [],
   "source": [
    "def extract_data_from_json(file_to_process):\n",
    "    dataframe= pd.read_json(file_to_process)\n",
    "    return dataframe\n",
    "    "
   ]
  },
  {
   "cell_type": "code",
   "execution_count": 37,
   "id": "c627be0d",
   "metadata": {},
   "outputs": [],
   "source": [
    "import os \n",
    "\n",
    "def extract():\n",
    "    file_1= 'C:/Users/cchaanuj/Desktop/housing-data/bank_market_cap_1.json'  \n",
    "    dataframe = extract_data_from_json(file_1)\n",
    "    columns =['Name' , 'Market Cap (US$ Billion)']\n",
    "    return dataframe"
   ]
  },
  {
   "cell_type": "code",
   "execution_count": 38,
   "id": "34348b29",
   "metadata": {},
   "outputs": [],
   "source": [
    "extracted_data = extract()"
   ]
  },
  {
   "cell_type": "code",
   "execution_count": 39,
   "id": "4095295d",
   "metadata": {},
   "outputs": [
    {
     "data": {
      "text/html": [
       "<div>\n",
       "<style scoped>\n",
       "    .dataframe tbody tr th:only-of-type {\n",
       "        vertical-align: middle;\n",
       "    }\n",
       "\n",
       "    .dataframe tbody tr th {\n",
       "        vertical-align: top;\n",
       "    }\n",
       "\n",
       "    .dataframe thead th {\n",
       "        text-align: right;\n",
       "    }\n",
       "</style>\n",
       "<table border=\"1\" class=\"dataframe\">\n",
       "  <thead>\n",
       "    <tr style=\"text-align: right;\">\n",
       "      <th></th>\n",
       "      <th>Name</th>\n",
       "      <th>Market Cap (US$ Billion)</th>\n",
       "    </tr>\n",
       "  </thead>\n",
       "  <tbody>\n",
       "    <tr>\n",
       "      <th>0</th>\n",
       "      <td>JPMorgan Chase</td>\n",
       "      <td>390.934</td>\n",
       "    </tr>\n",
       "    <tr>\n",
       "      <th>1</th>\n",
       "      <td>Industrial and Commercial Bank of China</td>\n",
       "      <td>345.214</td>\n",
       "    </tr>\n",
       "    <tr>\n",
       "      <th>2</th>\n",
       "      <td>Bank of America</td>\n",
       "      <td>325.331</td>\n",
       "    </tr>\n",
       "    <tr>\n",
       "      <th>3</th>\n",
       "      <td>Wells Fargo</td>\n",
       "      <td>308.013</td>\n",
       "    </tr>\n",
       "    <tr>\n",
       "      <th>4</th>\n",
       "      <td>China Construction Bank</td>\n",
       "      <td>257.399</td>\n",
       "    </tr>\n",
       "  </tbody>\n",
       "</table>\n",
       "</div>"
      ],
      "text/plain": [
       "                                      Name  Market Cap (US$ Billion)\n",
       "0                           JPMorgan Chase                   390.934\n",
       "1  Industrial and Commercial Bank of China                   345.214\n",
       "2                          Bank of America                   325.331\n",
       "3                              Wells Fargo                   308.013\n",
       "4                  China Construction Bank                   257.399"
      ]
     },
     "execution_count": 39,
     "metadata": {},
     "output_type": "execute_result"
    }
   ],
   "source": [
    "extracted_data.head()"
   ]
  },
  {
   "cell_type": "code",
   "execution_count": 40,
   "id": "a4664429",
   "metadata": {},
   "outputs": [],
   "source": [
    "df_2 = pd.read_csv('C:/Users/cchaanuj/Desktop/housing-data/exchange_rates.csv', index_col = 0)"
   ]
  },
  {
   "cell_type": "code",
   "execution_count": 41,
   "id": "3ada38e5",
   "metadata": {},
   "outputs": [],
   "source": [
    "exchange_rate = df_2.loc['GBP']['Rates']"
   ]
  },
  {
   "cell_type": "code",
   "execution_count": 42,
   "id": "446b398a",
   "metadata": {},
   "outputs": [
    {
     "data": {
      "text/plain": [
       "0.7323984208000001"
      ]
     },
     "execution_count": 42,
     "metadata": {},
     "output_type": "execute_result"
    }
   ],
   "source": [
    "exchange_rate"
   ]
  },
  {
   "cell_type": "code",
   "execution_count": 48,
   "id": "f7fe21c9",
   "metadata": {},
   "outputs": [],
   "source": [
    "def transform (dataframe, exchange_rate):\n",
    "    # (convert Marketcap US$ billion from USD to GBP billion)\n",
    "    dataframe['Market Cap (US$ Billion)'] = pd.to_numeric(dataframe['Market Cap (US$ Billion)'], errors = 'coerce')\n",
    "    \n",
    "    dataframe = dataframe.dropna(subset = ['Market Cap (US$ Billion)'])\n",
    "    \n",
    "    \n",
    "    dataframe['Market Cap (US$ Billion)'] = dataframe['Market Cap (US$ Billion)']* exchange_rate\n",
    "    \n",
    "    dataframe['Market Cap (US$ Billion)'] = dataframe['Market Cap (US$ Billion)'].round(3)\n",
    "    \n",
    "    dataframe.rename(columns = {'Market Cap (US$ Billion)' : 'Market Cap (GBP$ Billion)'}, inplace = True)\n",
    "    \n",
    "    return dataframe"
   ]
  },
  {
   "cell_type": "code",
   "execution_count": 49,
   "id": "e383e155",
   "metadata": {},
   "outputs": [],
   "source": [
    "transformed_dataframe = transform(extracted_data, exchange_rate)"
   ]
  },
  {
   "cell_type": "code",
   "execution_count": 50,
   "id": "b4e7a1bf",
   "metadata": {},
   "outputs": [
    {
     "data": {
      "text/html": [
       "<div>\n",
       "<style scoped>\n",
       "    .dataframe tbody tr th:only-of-type {\n",
       "        vertical-align: middle;\n",
       "    }\n",
       "\n",
       "    .dataframe tbody tr th {\n",
       "        vertical-align: top;\n",
       "    }\n",
       "\n",
       "    .dataframe thead th {\n",
       "        text-align: right;\n",
       "    }\n",
       "</style>\n",
       "<table border=\"1\" class=\"dataframe\">\n",
       "  <thead>\n",
       "    <tr style=\"text-align: right;\">\n",
       "      <th></th>\n",
       "      <th>Name</th>\n",
       "      <th>Market Cap (GBP$ Billion)</th>\n",
       "    </tr>\n",
       "  </thead>\n",
       "  <tbody>\n",
       "    <tr>\n",
       "      <th>0</th>\n",
       "      <td>JPMorgan Chase</td>\n",
       "      <td>286.319</td>\n",
       "    </tr>\n",
       "    <tr>\n",
       "      <th>1</th>\n",
       "      <td>Industrial and Commercial Bank of China</td>\n",
       "      <td>252.834</td>\n",
       "    </tr>\n",
       "    <tr>\n",
       "      <th>2</th>\n",
       "      <td>Bank of America</td>\n",
       "      <td>238.272</td>\n",
       "    </tr>\n",
       "    <tr>\n",
       "      <th>3</th>\n",
       "      <td>Wells Fargo</td>\n",
       "      <td>225.588</td>\n",
       "    </tr>\n",
       "    <tr>\n",
       "      <th>4</th>\n",
       "      <td>China Construction Bank</td>\n",
       "      <td>188.519</td>\n",
       "    </tr>\n",
       "  </tbody>\n",
       "</table>\n",
       "</div>"
      ],
      "text/plain": [
       "                                      Name  Market Cap (GBP$ Billion)\n",
       "0                           JPMorgan Chase                    286.319\n",
       "1  Industrial and Commercial Bank of China                    252.834\n",
       "2                          Bank of America                    238.272\n",
       "3                              Wells Fargo                    225.588\n",
       "4                  China Construction Bank                    188.519"
      ]
     },
     "execution_count": 50,
     "metadata": {},
     "output_type": "execute_result"
    }
   ],
   "source": [
    "transformed_dataframe.head()"
   ]
  },
  {
   "cell_type": "code",
   "execution_count": 51,
   "id": "a4c09e35",
   "metadata": {},
   "outputs": [],
   "source": [
    "def save_data_frame_to_csv(dataframe,file_name):\n",
    "    dataframe.to_csv(file_name, index= False)"
   ]
  },
  {
   "cell_type": "code",
   "execution_count": null,
   "id": "882be081",
   "metadata": {},
   "outputs": [],
   "source": []
  },
  {
   "cell_type": "code",
   "execution_count": 52,
   "id": "68f4d0a5",
   "metadata": {},
   "outputs": [],
   "source": [
    "import datetime \n",
    "\n",
    "def log(message):\n",
    "    timestamp= datetime.datetime.now().strftime(\"%Y-%M-%D %H: %M: %S\")\n",
    "    log_message = f\"{timestamp} - {message}\"\n",
    "    with open (\"etl_log.txt\",\"a\") as log_file:\n",
    "        log_file.write(log_message+ \"\\n\")"
   ]
  },
  {
   "cell_type": "code",
   "execution_count": 53,
   "id": "015bfb10",
   "metadata": {
    "scrolled": true
   },
   "outputs": [],
   "source": [
    "log(\"etl job started\")\n",
    "\n",
    "log(\"extract phase started\")\n",
    "\n",
    "extracted_data = extract()\n",
    "\n",
    "log(\"extract phase Ended\")\n",
    "\n",
    "\n",
    "log(\"Transform phase started\")\n",
    "\n",
    "transformed_data = transform(extracted_data,exchange_rate)\n",
    "\n",
    "log(\"Transform phase ended\")\n",
    "\n",
    "\n",
    "log(\"Load phase started\")\n",
    "\n",
    "save_data_frame_to_csv(transformed_data, 'bank_market_cap_gbp.csv')\n",
    "\n",
    "log(\"Load phase ended\")\n",
    "\n",
    "\n",
    "log(\"etl job ended\")\n"
   ]
  },
  {
   "cell_type": "code",
   "execution_count": null,
   "id": "5d673d73",
   "metadata": {},
   "outputs": [],
   "source": []
  },
  {
   "cell_type": "code",
   "execution_count": null,
   "id": "bc9f2e7f",
   "metadata": {},
   "outputs": [],
   "source": []
  },
  {
   "cell_type": "code",
   "execution_count": null,
   "id": "d2631609",
   "metadata": {},
   "outputs": [],
   "source": []
  }
 ],
 "metadata": {
  "kernelspec": {
   "display_name": "Python 3 (ipykernel)",
   "language": "python",
   "name": "python3"
  },
  "language_info": {
   "codemirror_mode": {
    "name": "ipython",
    "version": 3
   },
   "file_extension": ".py",
   "mimetype": "text/x-python",
   "name": "python",
   "nbconvert_exporter": "python",
   "pygments_lexer": "ipython3",
   "version": "3.10.9"
  }
 },
 "nbformat": 4,
 "nbformat_minor": 5
}
